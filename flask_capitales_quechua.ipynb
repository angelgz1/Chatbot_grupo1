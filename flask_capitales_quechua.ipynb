{
  "nbformat": 4,
  "nbformat_minor": 0,
  "metadata": {
    "colab": {
      "name": "Copia de flask_capitales_quechua.ipynb",
      "provenance": []
    },
    "kernelspec": {
      "name": "python3",
      "display_name": "Python 3"
    },
    "language_info": {
      "name": "python"
    }
  },
  "cells": [
    {
      "cell_type": "code",
      "metadata": {
        "id": "Tcuhui5sslIk",
        "colab": {
          "base_uri": "https://localhost:8080/"
        },
        "outputId": "c2593815-37b3-45ae-a4ff-208cbab9b681"
      },
      "source": [
        "!pip install flask-ngrok"
      ],
      "execution_count": 1,
      "outputs": [
        {
          "output_type": "stream",
          "text": [
            "Collecting flask-ngrok\n",
            "  Downloading flask_ngrok-0.0.25-py3-none-any.whl (3.1 kB)\n",
            "Requirement already satisfied: Flask>=0.8 in /usr/local/lib/python3.7/dist-packages (from flask-ngrok) (1.1.4)\n",
            "Requirement already satisfied: requests in /usr/local/lib/python3.7/dist-packages (from flask-ngrok) (2.23.0)\n",
            "Requirement already satisfied: Werkzeug<2.0,>=0.15 in /usr/local/lib/python3.7/dist-packages (from Flask>=0.8->flask-ngrok) (1.0.1)\n",
            "Requirement already satisfied: click<8.0,>=5.1 in /usr/local/lib/python3.7/dist-packages (from Flask>=0.8->flask-ngrok) (7.1.2)\n",
            "Requirement already satisfied: itsdangerous<2.0,>=0.24 in /usr/local/lib/python3.7/dist-packages (from Flask>=0.8->flask-ngrok) (1.1.0)\n",
            "Requirement already satisfied: Jinja2<3.0,>=2.10.1 in /usr/local/lib/python3.7/dist-packages (from Flask>=0.8->flask-ngrok) (2.11.3)\n",
            "Requirement already satisfied: MarkupSafe>=0.23 in /usr/local/lib/python3.7/dist-packages (from Jinja2<3.0,>=2.10.1->Flask>=0.8->flask-ngrok) (2.0.1)\n",
            "Requirement already satisfied: urllib3!=1.25.0,!=1.25.1,<1.26,>=1.21.1 in /usr/local/lib/python3.7/dist-packages (from requests->flask-ngrok) (1.24.3)\n",
            "Requirement already satisfied: chardet<4,>=3.0.2 in /usr/local/lib/python3.7/dist-packages (from requests->flask-ngrok) (3.0.4)\n",
            "Requirement already satisfied: idna<3,>=2.5 in /usr/local/lib/python3.7/dist-packages (from requests->flask-ngrok) (2.10)\n",
            "Requirement already satisfied: certifi>=2017.4.17 in /usr/local/lib/python3.7/dist-packages (from requests->flask-ngrok) (2021.5.30)\n",
            "Installing collected packages: flask-ngrok\n",
            "Successfully installed flask-ngrok-0.0.25\n"
          ],
          "name": "stdout"
        }
      ]
    },
    {
      "cell_type": "code",
      "metadata": {
        "id": "3UoTk22i_Uat",
        "colab": {
          "base_uri": "https://localhost:8080/"
        },
        "outputId": "030d744e-060d-4fd0-afe6-3222ab2a9cb7"
      },
      "source": [
        "pip install tokenizers"
      ],
      "execution_count": 2,
      "outputs": [
        {
          "output_type": "stream",
          "text": [
            "Collecting tokenizers\n",
            "  Downloading tokenizers-0.10.3-cp37-cp37m-manylinux_2_5_x86_64.manylinux1_x86_64.manylinux_2_12_x86_64.manylinux2010_x86_64.whl (3.3 MB)\n",
            "\u001b[?25l\r\u001b[K     |                                | 10 kB 15.4 MB/s eta 0:00:01\r\u001b[K     |▏                               | 20 kB 21.3 MB/s eta 0:00:01\r\u001b[K     |▎                               | 30 kB 25.4 MB/s eta 0:00:01\r\u001b[K     |▍                               | 40 kB 27.7 MB/s eta 0:00:01\r\u001b[K     |▌                               | 51 kB 30.8 MB/s eta 0:00:01\r\u001b[K     |▋                               | 61 kB 30.0 MB/s eta 0:00:01\r\u001b[K     |▊                               | 71 kB 29.7 MB/s eta 0:00:01\r\u001b[K     |▉                               | 81 kB 22.1 MB/s eta 0:00:01\r\u001b[K     |█                               | 92 kB 23.5 MB/s eta 0:00:01\r\u001b[K     |█                               | 102 kB 25.1 MB/s eta 0:00:01\r\u001b[K     |█                               | 112 kB 25.1 MB/s eta 0:00:01\r\u001b[K     |█▏                              | 122 kB 25.1 MB/s eta 0:00:01\r\u001b[K     |█▎                              | 133 kB 25.1 MB/s eta 0:00:01\r\u001b[K     |█▍                              | 143 kB 25.1 MB/s eta 0:00:01\r\u001b[K     |█▌                              | 153 kB 25.1 MB/s eta 0:00:01\r\u001b[K     |█▋                              | 163 kB 25.1 MB/s eta 0:00:01\r\u001b[K     |█▊                              | 174 kB 25.1 MB/s eta 0:00:01\r\u001b[K     |█▉                              | 184 kB 25.1 MB/s eta 0:00:01\r\u001b[K     |██                              | 194 kB 25.1 MB/s eta 0:00:01\r\u001b[K     |██                              | 204 kB 25.1 MB/s eta 0:00:01\r\u001b[K     |██▏                             | 215 kB 25.1 MB/s eta 0:00:01\r\u001b[K     |██▏                             | 225 kB 25.1 MB/s eta 0:00:01\r\u001b[K     |██▎                             | 235 kB 25.1 MB/s eta 0:00:01\r\u001b[K     |██▍                             | 245 kB 25.1 MB/s eta 0:00:01\r\u001b[K     |██▌                             | 256 kB 25.1 MB/s eta 0:00:01\r\u001b[K     |██▋                             | 266 kB 25.1 MB/s eta 0:00:01\r\u001b[K     |██▊                             | 276 kB 25.1 MB/s eta 0:00:01\r\u001b[K     |██▉                             | 286 kB 25.1 MB/s eta 0:00:01\r\u001b[K     |███                             | 296 kB 25.1 MB/s eta 0:00:01\r\u001b[K     |███                             | 307 kB 25.1 MB/s eta 0:00:01\r\u001b[K     |███▏                            | 317 kB 25.1 MB/s eta 0:00:01\r\u001b[K     |███▏                            | 327 kB 25.1 MB/s eta 0:00:01\r\u001b[K     |███▎                            | 337 kB 25.1 MB/s eta 0:00:01\r\u001b[K     |███▍                            | 348 kB 25.1 MB/s eta 0:00:01\r\u001b[K     |███▌                            | 358 kB 25.1 MB/s eta 0:00:01\r\u001b[K     |███▋                            | 368 kB 25.1 MB/s eta 0:00:01\r\u001b[K     |███▊                            | 378 kB 25.1 MB/s eta 0:00:01\r\u001b[K     |███▉                            | 389 kB 25.1 MB/s eta 0:00:01\r\u001b[K     |████                            | 399 kB 25.1 MB/s eta 0:00:01\r\u001b[K     |████                            | 409 kB 25.1 MB/s eta 0:00:01\r\u001b[K     |████▏                           | 419 kB 25.1 MB/s eta 0:00:01\r\u001b[K     |████▎                           | 430 kB 25.1 MB/s eta 0:00:01\r\u001b[K     |████▎                           | 440 kB 25.1 MB/s eta 0:00:01\r\u001b[K     |████▍                           | 450 kB 25.1 MB/s eta 0:00:01\r\u001b[K     |████▌                           | 460 kB 25.1 MB/s eta 0:00:01\r\u001b[K     |████▋                           | 471 kB 25.1 MB/s eta 0:00:01\r\u001b[K     |████▊                           | 481 kB 25.1 MB/s eta 0:00:01\r\u001b[K     |████▉                           | 491 kB 25.1 MB/s eta 0:00:01\r\u001b[K     |█████                           | 501 kB 25.1 MB/s eta 0:00:01\r\u001b[K     |█████                           | 512 kB 25.1 MB/s eta 0:00:01\r\u001b[K     |█████▏                          | 522 kB 25.1 MB/s eta 0:00:01\r\u001b[K     |█████▎                          | 532 kB 25.1 MB/s eta 0:00:01\r\u001b[K     |█████▎                          | 542 kB 25.1 MB/s eta 0:00:01\r\u001b[K     |█████▍                          | 552 kB 25.1 MB/s eta 0:00:01\r\u001b[K     |█████▌                          | 563 kB 25.1 MB/s eta 0:00:01\r\u001b[K     |█████▋                          | 573 kB 25.1 MB/s eta 0:00:01\r\u001b[K     |█████▊                          | 583 kB 25.1 MB/s eta 0:00:01\r\u001b[K     |█████▉                          | 593 kB 25.1 MB/s eta 0:00:01\r\u001b[K     |██████                          | 604 kB 25.1 MB/s eta 0:00:01\r\u001b[K     |██████                          | 614 kB 25.1 MB/s eta 0:00:01\r\u001b[K     |██████▏                         | 624 kB 25.1 MB/s eta 0:00:01\r\u001b[K     |██████▎                         | 634 kB 25.1 MB/s eta 0:00:01\r\u001b[K     |██████▍                         | 645 kB 25.1 MB/s eta 0:00:01\r\u001b[K     |██████▍                         | 655 kB 25.1 MB/s eta 0:00:01\r\u001b[K     |██████▌                         | 665 kB 25.1 MB/s eta 0:00:01\r\u001b[K     |██████▋                         | 675 kB 25.1 MB/s eta 0:00:01\r\u001b[K     |██████▊                         | 686 kB 25.1 MB/s eta 0:00:01\r\u001b[K     |██████▉                         | 696 kB 25.1 MB/s eta 0:00:01\r\u001b[K     |███████                         | 706 kB 25.1 MB/s eta 0:00:01\r\u001b[K     |███████                         | 716 kB 25.1 MB/s eta 0:00:01\r\u001b[K     |███████▏                        | 727 kB 25.1 MB/s eta 0:00:01\r\u001b[K     |███████▎                        | 737 kB 25.1 MB/s eta 0:00:01\r\u001b[K     |███████▍                        | 747 kB 25.1 MB/s eta 0:00:01\r\u001b[K     |███████▍                        | 757 kB 25.1 MB/s eta 0:00:01\r\u001b[K     |███████▌                        | 768 kB 25.1 MB/s eta 0:00:01\r\u001b[K     |███████▋                        | 778 kB 25.1 MB/s eta 0:00:01\r\u001b[K     |███████▊                        | 788 kB 25.1 MB/s eta 0:00:01\r\u001b[K     |███████▉                        | 798 kB 25.1 MB/s eta 0:00:01\r\u001b[K     |████████                        | 808 kB 25.1 MB/s eta 0:00:01\r\u001b[K     |████████                        | 819 kB 25.1 MB/s eta 0:00:01\r\u001b[K     |████████▏                       | 829 kB 25.1 MB/s eta 0:00:01\r\u001b[K     |████████▎                       | 839 kB 25.1 MB/s eta 0:00:01\r\u001b[K     |████████▍                       | 849 kB 25.1 MB/s eta 0:00:01\r\u001b[K     |████████▌                       | 860 kB 25.1 MB/s eta 0:00:01\r\u001b[K     |████████▌                       | 870 kB 25.1 MB/s eta 0:00:01\r\u001b[K     |████████▋                       | 880 kB 25.1 MB/s eta 0:00:01\r\u001b[K     |████████▊                       | 890 kB 25.1 MB/s eta 0:00:01\r\u001b[K     |████████▉                       | 901 kB 25.1 MB/s eta 0:00:01\r\u001b[K     |█████████                       | 911 kB 25.1 MB/s eta 0:00:01\r\u001b[K     |█████████                       | 921 kB 25.1 MB/s eta 0:00:01\r\u001b[K     |█████████▏                      | 931 kB 25.1 MB/s eta 0:00:01\r\u001b[K     |█████████▎                      | 942 kB 25.1 MB/s eta 0:00:01\r\u001b[K     |█████████▍                      | 952 kB 25.1 MB/s eta 0:00:01\r\u001b[K     |█████████▌                      | 962 kB 25.1 MB/s eta 0:00:01\r\u001b[K     |█████████▌                      | 972 kB 25.1 MB/s eta 0:00:01\r\u001b[K     |█████████▋                      | 983 kB 25.1 MB/s eta 0:00:01\r\u001b[K     |█████████▊                      | 993 kB 25.1 MB/s eta 0:00:01\r\u001b[K     |█████████▉                      | 1.0 MB 25.1 MB/s eta 0:00:01\r\u001b[K     |██████████                      | 1.0 MB 25.1 MB/s eta 0:00:01\r\u001b[K     |██████████                      | 1.0 MB 25.1 MB/s eta 0:00:01\r\u001b[K     |██████████▏                     | 1.0 MB 25.1 MB/s eta 0:00:01\r\u001b[K     |██████████▎                     | 1.0 MB 25.1 MB/s eta 0:00:01\r\u001b[K     |██████████▍                     | 1.1 MB 25.1 MB/s eta 0:00:01\r\u001b[K     |██████████▌                     | 1.1 MB 25.1 MB/s eta 0:00:01\r\u001b[K     |██████████▋                     | 1.1 MB 25.1 MB/s eta 0:00:01\r\u001b[K     |██████████▋                     | 1.1 MB 25.1 MB/s eta 0:00:01\r\u001b[K     |██████████▊                     | 1.1 MB 25.1 MB/s eta 0:00:01\r\u001b[K     |██████████▉                     | 1.1 MB 25.1 MB/s eta 0:00:01\r\u001b[K     |███████████                     | 1.1 MB 25.1 MB/s eta 0:00:01\r\u001b[K     |███████████                     | 1.1 MB 25.1 MB/s eta 0:00:01\r\u001b[K     |███████████▏                    | 1.1 MB 25.1 MB/s eta 0:00:01\r\u001b[K     |███████████▎                    | 1.1 MB 25.1 MB/s eta 0:00:01\r\u001b[K     |███████████▍                    | 1.2 MB 25.1 MB/s eta 0:00:01\r\u001b[K     |███████████▌                    | 1.2 MB 25.1 MB/s eta 0:00:01\r\u001b[K     |███████████▋                    | 1.2 MB 25.1 MB/s eta 0:00:01\r\u001b[K     |███████████▋                    | 1.2 MB 25.1 MB/s eta 0:00:01\r\u001b[K     |███████████▊                    | 1.2 MB 25.1 MB/s eta 0:00:01\r\u001b[K     |███████████▉                    | 1.2 MB 25.1 MB/s eta 0:00:01\r\u001b[K     |████████████                    | 1.2 MB 25.1 MB/s eta 0:00:01\r\u001b[K     |████████████                    | 1.2 MB 25.1 MB/s eta 0:00:01\r\u001b[K     |████████████▏                   | 1.2 MB 25.1 MB/s eta 0:00:01\r\u001b[K     |████████████▎                   | 1.2 MB 25.1 MB/s eta 0:00:01\r\u001b[K     |████████████▍                   | 1.3 MB 25.1 MB/s eta 0:00:01\r\u001b[K     |████████████▌                   | 1.3 MB 25.1 MB/s eta 0:00:01\r\u001b[K     |████████████▋                   | 1.3 MB 25.1 MB/s eta 0:00:01\r\u001b[K     |████████████▊                   | 1.3 MB 25.1 MB/s eta 0:00:01\r\u001b[K     |████████████▊                   | 1.3 MB 25.1 MB/s eta 0:00:01\r\u001b[K     |████████████▉                   | 1.3 MB 25.1 MB/s eta 0:00:01\r\u001b[K     |█████████████                   | 1.3 MB 25.1 MB/s eta 0:00:01\r\u001b[K     |█████████████                   | 1.3 MB 25.1 MB/s eta 0:00:01\r\u001b[K     |█████████████▏                  | 1.3 MB 25.1 MB/s eta 0:00:01\r\u001b[K     |█████████████▎                  | 1.4 MB 25.1 MB/s eta 0:00:01\r\u001b[K     |█████████████▍                  | 1.4 MB 25.1 MB/s eta 0:00:01\r\u001b[K     |█████████████▌                  | 1.4 MB 25.1 MB/s eta 0:00:01\r\u001b[K     |█████████████▋                  | 1.4 MB 25.1 MB/s eta 0:00:01\r\u001b[K     |█████████████▊                  | 1.4 MB 25.1 MB/s eta 0:00:01\r\u001b[K     |█████████████▊                  | 1.4 MB 25.1 MB/s eta 0:00:01\r\u001b[K     |█████████████▉                  | 1.4 MB 25.1 MB/s eta 0:00:01\r\u001b[K     |██████████████                  | 1.4 MB 25.1 MB/s eta 0:00:01\r\u001b[K     |██████████████                  | 1.4 MB 25.1 MB/s eta 0:00:01\r\u001b[K     |██████████████▏                 | 1.4 MB 25.1 MB/s eta 0:00:01\r\u001b[K     |██████████████▎                 | 1.5 MB 25.1 MB/s eta 0:00:01\r\u001b[K     |██████████████▍                 | 1.5 MB 25.1 MB/s eta 0:00:01\r\u001b[K     |██████████████▌                 | 1.5 MB 25.1 MB/s eta 0:00:01\r\u001b[K     |██████████████▋                 | 1.5 MB 25.1 MB/s eta 0:00:01\r\u001b[K     |██████████████▊                 | 1.5 MB 25.1 MB/s eta 0:00:01\r\u001b[K     |██████████████▉                 | 1.5 MB 25.1 MB/s eta 0:00:01\r\u001b[K     |██████████████▉                 | 1.5 MB 25.1 MB/s eta 0:00:01\r\u001b[K     |███████████████                 | 1.5 MB 25.1 MB/s eta 0:00:01\r\u001b[K     |███████████████                 | 1.5 MB 25.1 MB/s eta 0:00:01\r\u001b[K     |███████████████▏                | 1.5 MB 25.1 MB/s eta 0:00:01\r\u001b[K     |███████████████▎                | 1.6 MB 25.1 MB/s eta 0:00:01\r\u001b[K     |███████████████▍                | 1.6 MB 25.1 MB/s eta 0:00:01\r\u001b[K     |███████████████▌                | 1.6 MB 25.1 MB/s eta 0:00:01\r\u001b[K     |███████████████▋                | 1.6 MB 25.1 MB/s eta 0:00:01\r\u001b[K     |███████████████▊                | 1.6 MB 25.1 MB/s eta 0:00:01\r\u001b[K     |███████████████▉                | 1.6 MB 25.1 MB/s eta 0:00:01\r\u001b[K     |███████████████▉                | 1.6 MB 25.1 MB/s eta 0:00:01\r\u001b[K     |████████████████                | 1.6 MB 25.1 MB/s eta 0:00:01\r\u001b[K     |████████████████                | 1.6 MB 25.1 MB/s eta 0:00:01\r\u001b[K     |████████████████▏               | 1.6 MB 25.1 MB/s eta 0:00:01\r\u001b[K     |████████████████▎               | 1.7 MB 25.1 MB/s eta 0:00:01\r\u001b[K     |████████████████▍               | 1.7 MB 25.1 MB/s eta 0:00:01\r\u001b[K     |████████████████▌               | 1.7 MB 25.1 MB/s eta 0:00:01\r\u001b[K     |████████████████▋               | 1.7 MB 25.1 MB/s eta 0:00:01\r\u001b[K     |████████████████▊               | 1.7 MB 25.1 MB/s eta 0:00:01\r\u001b[K     |████████████████▉               | 1.7 MB 25.1 MB/s eta 0:00:01\r\u001b[K     |█████████████████               | 1.7 MB 25.1 MB/s eta 0:00:01\r\u001b[K     |█████████████████               | 1.7 MB 25.1 MB/s eta 0:00:01\r\u001b[K     |█████████████████               | 1.7 MB 25.1 MB/s eta 0:00:01\r\u001b[K     |█████████████████▏              | 1.8 MB 25.1 MB/s eta 0:00:01\r\u001b[K     |█████████████████▎              | 1.8 MB 25.1 MB/s eta 0:00:01\r\u001b[K     |█████████████████▍              | 1.8 MB 25.1 MB/s eta 0:00:01\r\u001b[K     |█████████████████▌              | 1.8 MB 25.1 MB/s eta 0:00:01\r\u001b[K     |█████████████████▋              | 1.8 MB 25.1 MB/s eta 0:00:01\r\u001b[K     |█████████████████▊              | 1.8 MB 25.1 MB/s eta 0:00:01\r\u001b[K     |█████████████████▉              | 1.8 MB 25.1 MB/s eta 0:00:01\r\u001b[K     |██████████████████              | 1.8 MB 25.1 MB/s eta 0:00:01\r\u001b[K     |██████████████████              | 1.8 MB 25.1 MB/s eta 0:00:01\r\u001b[K     |██████████████████              | 1.8 MB 25.1 MB/s eta 0:00:01\r\u001b[K     |██████████████████▏             | 1.9 MB 25.1 MB/s eta 0:00:01\r\u001b[K     |██████████████████▎             | 1.9 MB 25.1 MB/s eta 0:00:01\r\u001b[K     |██████████████████▍             | 1.9 MB 25.1 MB/s eta 0:00:01\r\u001b[K     |██████████████████▌             | 1.9 MB 25.1 MB/s eta 0:00:01\r\u001b[K     |██████████████████▋             | 1.9 MB 25.1 MB/s eta 0:00:01\r\u001b[K     |██████████████████▊             | 1.9 MB 25.1 MB/s eta 0:00:01\r\u001b[K     |██████████████████▉             | 1.9 MB 25.1 MB/s eta 0:00:01\r\u001b[K     |███████████████████             | 1.9 MB 25.1 MB/s eta 0:00:01\r\u001b[K     |███████████████████             | 1.9 MB 25.1 MB/s eta 0:00:01\r\u001b[K     |███████████████████             | 1.9 MB 25.1 MB/s eta 0:00:01\r\u001b[K     |███████████████████▏            | 2.0 MB 25.1 MB/s eta 0:00:01\r\u001b[K     |███████████████████▎            | 2.0 MB 25.1 MB/s eta 0:00:01\r\u001b[K     |███████████████████▍            | 2.0 MB 25.1 MB/s eta 0:00:01\r\u001b[K     |███████████████████▌            | 2.0 MB 25.1 MB/s eta 0:00:01\r\u001b[K     |███████████████████▋            | 2.0 MB 25.1 MB/s eta 0:00:01\r\u001b[K     |███████████████████▊            | 2.0 MB 25.1 MB/s eta 0:00:01\r\u001b[K     |███████████████████▉            | 2.0 MB 25.1 MB/s eta 0:00:01\r\u001b[K     |████████████████████            | 2.0 MB 25.1 MB/s eta 0:00:01\r\u001b[K     |████████████████████            | 2.0 MB 25.1 MB/s eta 0:00:01\r\u001b[K     |████████████████████            | 2.0 MB 25.1 MB/s eta 0:00:01\r\u001b[K     |████████████████████▏           | 2.1 MB 25.1 MB/s eta 0:00:01\r\u001b[K     |████████████████████▎           | 2.1 MB 25.1 MB/s eta 0:00:01\r\u001b[K     |████████████████████▍           | 2.1 MB 25.1 MB/s eta 0:00:01\r\u001b[K     |████████████████████▌           | 2.1 MB 25.1 MB/s eta 0:00:01\r\u001b[K     |████████████████████▋           | 2.1 MB 25.1 MB/s eta 0:00:01\r\u001b[K     |████████████████████▊           | 2.1 MB 25.1 MB/s eta 0:00:01\r\u001b[K     |████████████████████▉           | 2.1 MB 25.1 MB/s eta 0:00:01\r\u001b[K     |█████████████████████           | 2.1 MB 25.1 MB/s eta 0:00:01\r\u001b[K     |█████████████████████           | 2.1 MB 25.1 MB/s eta 0:00:01\r\u001b[K     |█████████████████████▏          | 2.2 MB 25.1 MB/s eta 0:00:01\r\u001b[K     |█████████████████████▏          | 2.2 MB 25.1 MB/s eta 0:00:01\r\u001b[K     |█████████████████████▎          | 2.2 MB 25.1 MB/s eta 0:00:01\r\u001b[K     |█████████████████████▍          | 2.2 MB 25.1 MB/s eta 0:00:01\r\u001b[K     |█████████████████████▌          | 2.2 MB 25.1 MB/s eta 0:00:01\r\u001b[K     |█████████████████████▋          | 2.2 MB 25.1 MB/s eta 0:00:01\r\u001b[K     |█████████████████████▊          | 2.2 MB 25.1 MB/s eta 0:00:01\r\u001b[K     |█████████████████████▉          | 2.2 MB 25.1 MB/s eta 0:00:01\r\u001b[K     |██████████████████████          | 2.2 MB 25.1 MB/s eta 0:00:01\r\u001b[K     |██████████████████████          | 2.2 MB 25.1 MB/s eta 0:00:01\r\u001b[K     |██████████████████████▏         | 2.3 MB 25.1 MB/s eta 0:00:01\r\u001b[K     |██████████████████████▏         | 2.3 MB 25.1 MB/s eta 0:00:01\r\u001b[K     |██████████████████████▎         | 2.3 MB 25.1 MB/s eta 0:00:01\r\u001b[K     |██████████████████████▍         | 2.3 MB 25.1 MB/s eta 0:00:01\r\u001b[K     |██████████████████████▌         | 2.3 MB 25.1 MB/s eta 0:00:01\r\u001b[K     |██████████████████████▋         | 2.3 MB 25.1 MB/s eta 0:00:01\r\u001b[K     |██████████████████████▊         | 2.3 MB 25.1 MB/s eta 0:00:01\r\u001b[K     |██████████████████████▉         | 2.3 MB 25.1 MB/s eta 0:00:01\r\u001b[K     |███████████████████████         | 2.3 MB 25.1 MB/s eta 0:00:01\r\u001b[K     |███████████████████████         | 2.3 MB 25.1 MB/s eta 0:00:01\r\u001b[K     |███████████████████████▏        | 2.4 MB 25.1 MB/s eta 0:00:01\r\u001b[K     |███████████████████████▎        | 2.4 MB 25.1 MB/s eta 0:00:01\r\u001b[K     |███████████████████████▎        | 2.4 MB 25.1 MB/s eta 0:00:01\r\u001b[K     |███████████████████████▍        | 2.4 MB 25.1 MB/s eta 0:00:01\r\u001b[K     |███████████████████████▌        | 2.4 MB 25.1 MB/s eta 0:00:01\r\u001b[K     |███████████████████████▋        | 2.4 MB 25.1 MB/s eta 0:00:01\r\u001b[K     |███████████████████████▊        | 2.4 MB 25.1 MB/s eta 0:00:01\r\u001b[K     |███████████████████████▉        | 2.4 MB 25.1 MB/s eta 0:00:01\r\u001b[K     |████████████████████████        | 2.4 MB 25.1 MB/s eta 0:00:01\r\u001b[K     |████████████████████████        | 2.4 MB 25.1 MB/s eta 0:00:01\r\u001b[K     |████████████████████████▏       | 2.5 MB 25.1 MB/s eta 0:00:01\r\u001b[K     |████████████████████████▎       | 2.5 MB 25.1 MB/s eta 0:00:01\r\u001b[K     |████████████████████████▍       | 2.5 MB 25.1 MB/s eta 0:00:01\r\u001b[K     |████████████████████████▍       | 2.5 MB 25.1 MB/s eta 0:00:01\r\u001b[K     |████████████████████████▌       | 2.5 MB 25.1 MB/s eta 0:00:01\r\u001b[K     |████████████████████████▋       | 2.5 MB 25.1 MB/s eta 0:00:01\r\u001b[K     |████████████████████████▊       | 2.5 MB 25.1 MB/s eta 0:00:01\r\u001b[K     |████████████████████████▉       | 2.5 MB 25.1 MB/s eta 0:00:01\r\u001b[K     |█████████████████████████       | 2.5 MB 25.1 MB/s eta 0:00:01\r\u001b[K     |█████████████████████████       | 2.5 MB 25.1 MB/s eta 0:00:01\r\u001b[K     |█████████████████████████▏      | 2.6 MB 25.1 MB/s eta 0:00:01\r\u001b[K     |█████████████████████████▎      | 2.6 MB 25.1 MB/s eta 0:00:01\r\u001b[K     |█████████████████████████▍      | 2.6 MB 25.1 MB/s eta 0:00:01\r\u001b[K     |█████████████████████████▍      | 2.6 MB 25.1 MB/s eta 0:00:01\r\u001b[K     |█████████████████████████▌      | 2.6 MB 25.1 MB/s eta 0:00:01\r\u001b[K     |█████████████████████████▋      | 2.6 MB 25.1 MB/s eta 0:00:01\r\u001b[K     |█████████████████████████▊      | 2.6 MB 25.1 MB/s eta 0:00:01\r\u001b[K     |█████████████████████████▉      | 2.6 MB 25.1 MB/s eta 0:00:01\r\u001b[K     |██████████████████████████      | 2.6 MB 25.1 MB/s eta 0:00:01\r\u001b[K     |██████████████████████████      | 2.7 MB 25.1 MB/s eta 0:00:01\r\u001b[K     |██████████████████████████▏     | 2.7 MB 25.1 MB/s eta 0:00:01\r\u001b[K     |██████████████████████████▎     | 2.7 MB 25.1 MB/s eta 0:00:01\r\u001b[K     |██████████████████████████▍     | 2.7 MB 25.1 MB/s eta 0:00:01\r\u001b[K     |██████████████████████████▌     | 2.7 MB 25.1 MB/s eta 0:00:01\r\u001b[K     |██████████████████████████▌     | 2.7 MB 25.1 MB/s eta 0:00:01\r\u001b[K     |██████████████████████████▋     | 2.7 MB 25.1 MB/s eta 0:00:01\r\u001b[K     |██████████████████████████▊     | 2.7 MB 25.1 MB/s eta 0:00:01\r\u001b[K     |██████████████████████████▉     | 2.7 MB 25.1 MB/s eta 0:00:01\r\u001b[K     |███████████████████████████     | 2.7 MB 25.1 MB/s eta 0:00:01\r\u001b[K     |███████████████████████████     | 2.8 MB 25.1 MB/s eta 0:00:01\r\u001b[K     |███████████████████████████▏    | 2.8 MB 25.1 MB/s eta 0:00:01\r\u001b[K     |███████████████████████████▎    | 2.8 MB 25.1 MB/s eta 0:00:01\r\u001b[K     |███████████████████████████▍    | 2.8 MB 25.1 MB/s eta 0:00:01\r\u001b[K     |███████████████████████████▌    | 2.8 MB 25.1 MB/s eta 0:00:01\r\u001b[K     |███████████████████████████▌    | 2.8 MB 25.1 MB/s eta 0:00:01\r\u001b[K     |███████████████████████████▋    | 2.8 MB 25.1 MB/s eta 0:00:01\r\u001b[K     |███████████████████████████▊    | 2.8 MB 25.1 MB/s eta 0:00:01\r\u001b[K     |███████████████████████████▉    | 2.8 MB 25.1 MB/s eta 0:00:01\r\u001b[K     |████████████████████████████    | 2.8 MB 25.1 MB/s eta 0:00:01\r\u001b[K     |████████████████████████████    | 2.9 MB 25.1 MB/s eta 0:00:01\r\u001b[K     |████████████████████████████▏   | 2.9 MB 25.1 MB/s eta 0:00:01\r\u001b[K     |████████████████████████████▎   | 2.9 MB 25.1 MB/s eta 0:00:01\r\u001b[K     |████████████████████████████▍   | 2.9 MB 25.1 MB/s eta 0:00:01\r\u001b[K     |████████████████████████████▌   | 2.9 MB 25.1 MB/s eta 0:00:01\r\u001b[K     |████████████████████████████▋   | 2.9 MB 25.1 MB/s eta 0:00:01\r\u001b[K     |████████████████████████████▋   | 2.9 MB 25.1 MB/s eta 0:00:01\r\u001b[K     |████████████████████████████▊   | 2.9 MB 25.1 MB/s eta 0:00:01\r\u001b[K     |████████████████████████████▉   | 2.9 MB 25.1 MB/s eta 0:00:01\r\u001b[K     |█████████████████████████████   | 2.9 MB 25.1 MB/s eta 0:00:01\r\u001b[K     |█████████████████████████████   | 3.0 MB 25.1 MB/s eta 0:00:01\r\u001b[K     |█████████████████████████████▏  | 3.0 MB 25.1 MB/s eta 0:00:01\r\u001b[K     |█████████████████████████████▎  | 3.0 MB 25.1 MB/s eta 0:00:01\r\u001b[K     |█████████████████████████████▍  | 3.0 MB 25.1 MB/s eta 0:00:01\r\u001b[K     |█████████████████████████████▌  | 3.0 MB 25.1 MB/s eta 0:00:01\r\u001b[K     |█████████████████████████████▋  | 3.0 MB 25.1 MB/s eta 0:00:01\r\u001b[K     |█████████████████████████████▋  | 3.0 MB 25.1 MB/s eta 0:00:01\r\u001b[K     |█████████████████████████████▊  | 3.0 MB 25.1 MB/s eta 0:00:01\r\u001b[K     |█████████████████████████████▉  | 3.0 MB 25.1 MB/s eta 0:00:01\r\u001b[K     |██████████████████████████████  | 3.1 MB 25.1 MB/s eta 0:00:01\r\u001b[K     |██████████████████████████████  | 3.1 MB 25.1 MB/s eta 0:00:01\r\u001b[K     |██████████████████████████████▏ | 3.1 MB 25.1 MB/s eta 0:00:01\r\u001b[K     |██████████████████████████████▎ | 3.1 MB 25.1 MB/s eta 0:00:01\r\u001b[K     |██████████████████████████████▍ | 3.1 MB 25.1 MB/s eta 0:00:01\r\u001b[K     |██████████████████████████████▌ | 3.1 MB 25.1 MB/s eta 0:00:01\r\u001b[K     |██████████████████████████████▋ | 3.1 MB 25.1 MB/s eta 0:00:01\r\u001b[K     |██████████████████████████████▊ | 3.1 MB 25.1 MB/s eta 0:00:01\r\u001b[K     |██████████████████████████████▊ | 3.1 MB 25.1 MB/s eta 0:00:01\r\u001b[K     |██████████████████████████████▉ | 3.1 MB 25.1 MB/s eta 0:00:01\r\u001b[K     |███████████████████████████████ | 3.2 MB 25.1 MB/s eta 0:00:01\r\u001b[K     |███████████████████████████████ | 3.2 MB 25.1 MB/s eta 0:00:01\r\u001b[K     |███████████████████████████████▏| 3.2 MB 25.1 MB/s eta 0:00:01\r\u001b[K     |███████████████████████████████▎| 3.2 MB 25.1 MB/s eta 0:00:01\r\u001b[K     |███████████████████████████████▍| 3.2 MB 25.1 MB/s eta 0:00:01\r\u001b[K     |███████████████████████████████▌| 3.2 MB 25.1 MB/s eta 0:00:01\r\u001b[K     |███████████████████████████████▋| 3.2 MB 25.1 MB/s eta 0:00:01\r\u001b[K     |███████████████████████████████▊| 3.2 MB 25.1 MB/s eta 0:00:01\r\u001b[K     |███████████████████████████████▊| 3.2 MB 25.1 MB/s eta 0:00:01\r\u001b[K     |███████████████████████████████▉| 3.2 MB 25.1 MB/s eta 0:00:01\r\u001b[K     |████████████████████████████████| 3.3 MB 25.1 MB/s eta 0:00:01\r\u001b[K     |████████████████████████████████| 3.3 MB 25.1 MB/s \n",
            "\u001b[?25hInstalling collected packages: tokenizers\n",
            "Successfully installed tokenizers-0.10.3\n"
          ],
          "name": "stdout"
        }
      ]
    },
    {
      "cell_type": "code",
      "metadata": {
        "id": "N98j89CyspKV"
      },
      "source": [
        "from flask import Flask, jsonify, request, render_template\n",
        "from flask_ngrok import run_with_ngrok\n",
        "import pandas as pd\n",
        "import json\n",
        "import requests"
      ],
      "execution_count": 14,
      "outputs": []
    },
    {
      "cell_type": "code",
      "metadata": {
        "id": "X0V7qtk-r8mi"
      },
      "source": [
        "import random"
      ],
      "execution_count": 15,
      "outputs": []
    },
    {
      "cell_type": "code",
      "metadata": {
        "id": "ZcufymrWsuz7"
      },
      "source": [
        "from flask import Flask, send_file\n",
        "from flask_ngrok import run_with_ngrok"
      ],
      "execution_count": 16,
      "outputs": []
    },
    {
      "cell_type": "code",
      "metadata": {
        "id": "_ZthGLTR-pqg"
      },
      "source": [
        "from pathlib import Path\n",
        "\n",
        "from tokenizers import normalizers\n",
        "from tokenizers.normalizers import NFKC, Lowercase\n",
        "from tokenizers import Tokenizer\n",
        "from tokenizers.models import WordPiece\n",
        "from tokenizers.pre_tokenizers import Whitespace\n",
        "from tokenizers.processors import TemplateProcessing\n",
        "from tokenizers.trainers import WordPieceTrainer"
      ],
      "execution_count": 17,
      "outputs": []
    },
    {
      "cell_type": "code",
      "metadata": {
        "id": "63VhdWG3_duO"
      },
      "source": [
        "paths = [str(x) for x in Path(\"/content/drive/MyDrive/Cursos_UNI/Analitica_de_datos/Final/corpus\").glob(\"**/*.txt\")]"
      ],
      "execution_count": 18,
      "outputs": []
    },
    {
      "cell_type": "code",
      "metadata": {
        "id": "A-dK1IVh_q98"
      },
      "source": [
        "bert_tokenizer = Tokenizer(WordPiece(unk_token= \"[UNK]\"))\n",
        "bert_tokenizer.normalizer = normalizers.Sequence([NFKC(), Lowercase()])\n",
        "bert_tokenizer.pre_tokenizer = Whitespace()\n",
        "\n",
        "bert_tokenizer.post_processor = TemplateProcessing(\n",
        "    single=\"[CLS] $A [SEP]\",\n",
        "    pair=\"[CLS] $A [SEP] $B:1 [SEP]:1\",\n",
        "    special_tokens=[\n",
        "        (\"[CLS]\", 1),\n",
        "        (\"[SEP]\", 2),\n",
        "    ],\n",
        ")\n",
        "\n",
        "\n",
        "# Training model\n",
        "\n",
        "trainer = WordPieceTrainer(\n",
        "    vocab_size=50265, special_tokens=[\"[UNK]\", \"[CLS]\", \"[SEP]\", \"[PAD]\", \"[MASK]\"]\n",
        ")\n",
        "\n",
        "bert_tokenizer.train(paths, trainer)\n",
        "bert_tokenizer.save(\"quechuabert\")"
      ],
      "execution_count": 19,
      "outputs": []
    },
    {
      "cell_type": "code",
      "metadata": {
        "id": "TcZaGS2drZcu"
      },
      "source": [
        "# Módulo de reconocimiento de entidad País\n",
        "#Paises = {'Mishiku': 'Mishiku llaqta', 'Fransiapa': 'París', 'Ispaña': 'Madrid', 'Españapa': 'Madrid', 'Inglaterra': 'Londres', 'Italya': 'Roma',}\n",
        "Paises = {'México': 'México', 'Francia': 'París', 'España': 'Madrid', 'Inglaterra': 'Londres', 'Italia': 'Roma'}\n",
        "Resp_Paises = ['wan mayna allinmi sumaq kay killakunapim watakama', #y es hermoso en esta época del año \n",
        "               'Munaymanm yachay rikuy', #me encantaría poder visitarla\n",
        "               'puriy Chatbots yachay watuku nacionkunapiqa yanqa qawanapaq'] #lástima que los ChatBots solo podemos hacer visitas a paises de manera virtual\n",
        "Paises_Unknown = ['puriy mana  yachayanichu uma llaqta nacionkunapiqa, Rishaq estudiay #Chatbot saqra', #Lo siento pero creo que no conozco la capital de ese país, creo que debo estudiar más #Mal ChatBot\n",
        "                  'Pampachakuy, ama Chusay Llahta, ama Ruwaysiy mayqantaq Llahta', # Creo que dirás que soy chafa, pero no me sé esa capital, pero pregunta por otra   \n",
        "                  'Puriy mana  yachayanichu estudiay allpa saywachi yanapayuq chaykunaqa'] #Creo que me pondré a estudiar Geografía, para que pueda responderte en un futuro \n",
        "Inicio = ['Sumaq chisi ', #Buenas Tardes\n",
        "          'allin suka yachachak ', #Hola como estas\n",
        "          'Miski simiwan ', #La respuesta\n",
        "          'allin puchay ', #Buenos dias\n",
        "          'Uma llanqta ']#Capital\n",
        "def Country(inp):\n",
        "    pais_act = 0\n",
        "    for pais in Paises.keys():\n",
        "        if inp.lower().count(pais.lower()) > 0:\n",
        "            pais_act = 1\n",
        "            print('\\nChatBot: ' + 'Uma llanqta ' + str(pais) + ' kay ' + str(Paises.get(pais)) + ' ' + random.choice(Resp_Paises) + '[Entidad]\\n')\n",
        "    if pais_act == 0:\n",
        "        print('\\nChatBot: ' + random.choice(Paises_Unknown) + '\\n')"
      ],
      "execution_count": 27,
      "outputs": []
    },
    {
      "cell_type": "code",
      "metadata": {
        "id": "SxndvDb-Hk0Q"
      },
      "source": [
        "col_names = ['Pais','Capital']\n",
        "data=pd.read_csv(\"/content/drive/MyDrive/Cursos_UNI/Analitica_de_datos/Final/Paises_quechua.csv\", header=None, names=col_names, delimiter=';')\n",
        "data.head()"
      ],
      "execution_count": null,
      "outputs": []
    },
    {
      "cell_type": "code",
      "metadata": {
        "colab": {
          "base_uri": "https://localhost:8080/"
        },
        "id": "X73ybttnIeyI",
        "outputId": "919e9a58-6107-440b-d0d9-962b1512edc2"
      },
      "source": [
        "lista_capital=[]\n",
        "lista_pais=[]\n",
        "for i in data.Capital:\n",
        "  lista_capital.append(i)\n",
        "\n",
        "for j in data.Pais:\n",
        "  lista_pais.append(j)\n",
        "\n",
        "lista_pais"
      ],
      "execution_count": 22,
      "outputs": [
        {
          "output_type": "execute_result",
          "data": {
            "text/plain": [
              "['bolivia', 'francia', 'mishiku', 'italia', 'españa', 'peru']"
            ]
          },
          "metadata": {
            "tags": []
          },
          "execution_count": 22
        }
      ]
    },
    {
      "cell_type": "code",
      "metadata": {
        "id": "2FJm0Omms8D1"
      },
      "source": [
        "app = Flask(__name__, template_folder=\"/content/drive/MyDrive/Cursos_UNI/Analitica_de_datos/Final\")\n",
        "run_with_ngrok(app)\n",
        "\n",
        "\n",
        "@app.route(\"/\")\n",
        "def hello_world():\n",
        "  return render_template(\"home.html\")\n",
        "\n",
        "@app.route(\"/get\") \n",
        "def get_bot_response():\n",
        "  usertext = request.args.get('msg')\n",
        "  entrada = bert_tokenizer.encode(usertext)\n",
        "  pais_act=0\n",
        "  for i in entrada.tokens:\n",
        "    if i in lista_pais:\n",
        "      pais_act=1\n",
        "      inde=lista_pais.index(i)\n",
        "      return str(random.choice(Inicio) + i + ' kay ' + lista_capital[inde] + '  ' + random.choice(Resp_Paises) + '\\n')\n",
        "  if pais_act==0:\n",
        "    return str(random.choice(Paises_Unknown) +  '\\n')\n",
        "\n",
        "\n",
        "\n",
        "\n",
        "  ##return usertext\n",
        "\n",
        "app.run()"
      ],
      "execution_count": null,
      "outputs": []
    }
  ]
}